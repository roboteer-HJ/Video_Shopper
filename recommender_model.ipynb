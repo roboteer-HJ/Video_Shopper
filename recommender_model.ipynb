{
  "nbformat": 4,
  "nbformat_minor": 0,
  "metadata": {
    "colab": {
      "name": "recommender model.ipynb",
      "provenance": [],
      "collapsed_sections": [],
      "include_colab_link": true
    },
    "kernelspec": {
      "name": "python3",
      "display_name": "Python 3"
    },
    "language_info": {
      "name": "python"
    }
  },
  "cells": [
    {
      "cell_type": "markdown",
      "metadata": {
        "id": "view-in-github",
        "colab_type": "text"
      },
      "source": [
        "<a href=\"https://colab.research.google.com/github/jainsam123/hackfest-2021/blob/main/recommender_model.ipynb\" target=\"_parent\"><img src=\"https://colab.research.google.com/assets/colab-badge.svg\" alt=\"Open In Colab\"/></a>"
      ]
    },
    {
      "cell_type": "code",
      "metadata": {
        "colab": {
          "base_uri": "https://localhost:8080/"
        },
        "id": "jNJSAtvFKvLm",
        "outputId": "db3c4c04-6020-4846-d742-97d73541fc0a"
      },
      "source": [
        "!pip install annoy"
      ],
      "execution_count": 112,
      "outputs": [
        {
          "output_type": "stream",
          "text": [
            "Requirement already satisfied: annoy in /usr/local/lib/python3.7/dist-packages (1.17.0)\n"
          ],
          "name": "stdout"
        }
      ]
    },
    {
      "cell_type": "code",
      "metadata": {
        "id": "GuAxrZU8jEQP",
        "colab": {
          "base_uri": "https://localhost:8080/"
        },
        "outputId": "03ce0b42-e1f9-4c8d-936f-d262ca233f85"
      },
      "source": [
        "from google.colab import drive\n",
        "drive.mount('/content/drive')"
      ],
      "execution_count": 113,
      "outputs": [
        {
          "output_type": "stream",
          "text": [
            "Drive already mounted at /content/drive; to attempt to forcibly remount, call drive.mount(\"/content/drive\", force_remount=True).\n"
          ],
          "name": "stdout"
        }
      ]
    },
    {
      "cell_type": "code",
      "metadata": {
        "id": "_5C-QofdDxBW"
      },
      "source": [
        "import re\n",
        "import os\n",
        "import base64\n",
        "import time\n",
        "import sys\n",
        "import numpy as np\n",
        "import uuid\n",
        "import json\n",
        "import tensorflow as tf\n",
        "import requests\n",
        "from tensorflow.keras.models import Model\n",
        "from annoy import AnnoyIndex"
      ],
      "execution_count": null,
      "outputs": []
    },
    {
      "cell_type": "code",
      "metadata": {
        "id": "arFiwz_hFNzg"
      },
      "source": [
        "path = \"/content/drive/MyDrive/models/xception_224x224_adam_batch32_8labels_5000each_10ep_ft16ep.h5\""
      ],
      "execution_count": null,
      "outputs": []
    },
    {
      "cell_type": "code",
      "metadata": {
        "id": "cGlNbu2cFRyV"
      },
      "source": [
        "IMAGE_WIDTH = 224\n",
        "IMAGE_HEIGHT = 224"
      ],
      "execution_count": null,
      "outputs": []
    },
    {
      "cell_type": "code",
      "metadata": {
        "id": "2cLYPFZjFWKj"
      },
      "source": [
        "model = None\n",
        "feature_extractor = None\n",
        "ann_index = []\n",
        "ann_metadata = []\n",
        "MODEL = 'xception_224x224_adam_batch32_8labels_5000each_10ep_ft16ep.h5'\n",
        "MAX_TOP_K = 5 # the number of nearest neighbors returns from Annoy calculation"
      ],
      "execution_count": null,
      "outputs": []
    },
    {
      "cell_type": "code",
      "metadata": {
        "id": "jNLBEMqCFbjj"
      },
      "source": [
        "labels = ['Cell_Phones_and_Accessories', 'Clothing_Men', 'Clothing_Women', 'Electronics', 'Home_and_Kitchen', 'Pet_Supplies', 'Shoes', 'Watches']"
      ],
      "execution_count": null,
      "outputs": []
    },
    {
      "cell_type": "code",
      "metadata": {
        "id": "kOeemmOtFshj"
      },
      "source": [
        "model = tf.keras.models.load_model(path)"
      ],
      "execution_count": null,
      "outputs": []
    },
    {
      "cell_type": "code",
      "metadata": {
        "colab": {
          "base_uri": "https://localhost:8080/"
        },
        "id": "2ZhO1P7yGxos",
        "outputId": "52066916-60d2-4a7a-f6f6-a1b42355e28c"
      },
      "source": [
        "model.summary()"
      ],
      "execution_count": null,
      "outputs": [
        {
          "output_type": "stream",
          "text": [
            "Model: \"sequential_2\"\n",
            "_________________________________________________________________\n",
            "Layer (type)                 Output Shape              Param #   \n",
            "=================================================================\n",
            "xception (Functional)        (None, 7, 7, 2048)        20861480  \n",
            "_________________________________________________________________\n",
            "global_average_pooling2d_2 ( (None, 2048)              0         \n",
            "_________________________________________________________________\n",
            "dense_2 (Dense)              (None, 8)                 16392     \n",
            "=================================================================\n",
            "Total params: 20,877,872\n",
            "Trainable params: 6,804,776\n",
            "Non-trainable params: 14,073,096\n",
            "_________________________________________________________________\n"
          ],
          "name": "stdout"
        }
      ]
    },
    {
      "cell_type": "code",
      "metadata": {
        "id": "aT2pTH7wFvcz"
      },
      "source": [
        "layer_name = 'global_average_pooling2d_2'\n",
        "feature_extractor = Model(inputs=model.input, outputs=model.get_layer(layer_name).output)"
      ],
      "execution_count": null,
      "outputs": []
    },
    {
      "cell_type": "code",
      "metadata": {
        "id": "cmIE7aVgGUCd"
      },
      "source": [
        "for i in range(len(labels)):\n",
        "  ann_index_name = 'index_xception_224x224_adam_batch32_8labels_5000each_10ep_ft16ep_label_{}.ann'.format(i)\n",
        "  path_ann_index = '/content/drive/MyDrive/models/annoy_index/label separated/' + ann_index_name\n",
        "  "
      ],
      "execution_count": null,
      "outputs": []
    },
    {
      "cell_type": "code",
      "metadata": {
        "id": "IAFzxHu6J7h8"
      },
      "source": [
        "for i in range(len(labels)):\n",
        "        ann_index_name = 'index_xception_224x224_adam_batch32_8labels_5000each_10ep_ft16ep_label_{}.ann'.format(i)\n",
        "        ann_metadata_name = 'metadata_xception_224x224_adam_batch32_8labels_5000each_10ep_ft16ep_label_{}.json'.format(i)\n",
        "\n",
        "        path_ann_index = '/content/drive/MyDrive/models/annoy_index/label separated/' + ann_index_name\n",
        "        path_ann_metadata = '/content/drive/MyDrive/models/annoy_index/label separated/' + ann_metadata_name\n",
        "\n",
        "        with open(path_ann_metadata) as f:\n",
        "            ann_metadata_data = json.load(f)\n",
        "            ann_metadata.append(ann_metadata_data)\n",
        "\n",
        "        ann_index_obj = AnnoyIndex(ann_metadata_data['features_length'], metric='angular')\n",
        "        ann_index_obj.load(path_ann_index)\n",
        "        ann_index.append(ann_index_obj)"
      ],
      "execution_count": null,
      "outputs": []
    },
    {
      "cell_type": "code",
      "metadata": {
        "id": "_xoMbTprK-a1"
      },
      "source": [
        "def get_neighbors(label, input_feature_vectors, max_neighbors=14):\n",
        "    results = []\n",
        "    \n",
        "    # get the nearest neighbors of that first nearest neighbor\n",
        "    ann_index_obj = ann_index[label]\n",
        "\n",
        "    for item_id in ann_index_obj.get_nns_by_vector(input_feature_vectors, max_neighbors, search_k=10):\n",
        "        # if item_id != top_1:\n",
        "        results.append({\n",
        "        'id': item_id,\n",
        "        'asin': ann_metadata[label]['list_asin'][item_id]\n",
        "        })\n",
        "\n",
        "    print('get_neighbors label', label)\n",
        "\n",
        "    return results"
      ],
      "execution_count": null,
      "outputs": []
    },
    {
      "cell_type": "markdown",
      "metadata": {
        "id": "SEHP4iLwWlTm"
      },
      "source": [
        "# New Section"
      ]
    },
    {
      "cell_type": "code",
      "metadata": {
        "id": "gi0MuwKgOMGL"
      },
      "source": [
        "import cv2"
      ],
      "execution_count": null,
      "outputs": []
    },
    {
      "cell_type": "code",
      "metadata": {
        "id": "_SkluHXfLnsy"
      },
      "source": [
        "def preprocess_image(img_raw):\n",
        "    predict_img_width = IMAGE_WIDTH\n",
        "    predict_img_height = IMAGE_HEIGHT\n",
        "\n",
        "    img_str = cv2.imread(img_raw)\n",
        "    image=tf.convert_to_tensor(img_str, dtype=tf.float32)\n",
        "    image = tf.image.resize(image, [predict_img_width, predict_img_height])\n",
        "    image = (255 - image) / 255.0  # normalize to [0,1] range\n",
        "    image = tf.reshape(image, (1, predict_img_width, predict_img_height, 3))\n",
        "\n",
        "    return image"
      ],
      "execution_count": null,
      "outputs": []
    },
    {
      "cell_type": "code",
      "metadata": {
        "id": "j_xxiwPQNB6l"
      },
      "source": [
        "img_raw = \"/content/bag1.jpg\""
      ],
      "execution_count": null,
      "outputs": []
    },
    {
      "cell_type": "code",
      "metadata": {
        "id": "b9fUh76SLsfC"
      },
      "source": [
        "image = preprocess_image(img_raw)"
      ],
      "execution_count": null,
      "outputs": []
    },
    {
      "cell_type": "code",
      "metadata": {
        "id": "KzPRd6_AL0gD"
      },
      "source": [
        "prediction_probs = model.predict(image)"
      ],
      "execution_count": null,
      "outputs": []
    },
    {
      "cell_type": "code",
      "metadata": {
        "id": "eI5BJhhhL0lY"
      },
      "source": [
        "predicted_label = np.argmax(prediction_probs, axis=1)[0]"
      ],
      "execution_count": null,
      "outputs": []
    },
    {
      "cell_type": "code",
      "metadata": {
        "id": "yOftv7TEL0vO"
      },
      "source": [
        "input_feature_vectors = feature_extractor.predict(image)\n",
        "input_feature_vectors = input_feature_vectors.flatten()"
      ],
      "execution_count": null,
      "outputs": []
    },
    {
      "cell_type": "code",
      "metadata": {
        "id": "355WueuYL0yT"
      },
      "source": [
        "input_feature_vectors = input_feature_vectors / input_feature_vectors.max()"
      ],
      "execution_count": null,
      "outputs": []
    },
    {
      "cell_type": "code",
      "metadata": {
        "colab": {
          "base_uri": "https://localhost:8080/"
        },
        "id": "HzEHdpMuMEl3",
        "outputId": "8b1249dc-fbdb-43eb-cd85-54803bf6eb07"
      },
      "source": [
        "top_k = get_neighbors(predicted_label, input_feature_vectors, MAX_TOP_K)"
      ],
      "execution_count": null,
      "outputs": [
        {
          "output_type": "stream",
          "text": [
            "get_neighbors label 1\n"
          ],
          "name": "stdout"
        }
      ]
    },
    {
      "cell_type": "code",
      "metadata": {
        "id": "oi5ujDY_QyHj"
      },
      "source": [
        ""
      ],
      "execution_count": null,
      "outputs": []
    },
    {
      "cell_type": "code",
      "metadata": {
        "colab": {
          "base_uri": "https://localhost:8080/"
        },
        "id": "26-vzpcpMEjJ",
        "outputId": "d9494728-0aaf-45a7-a44e-6c8d8f4ad7d9"
      },
      "source": [
        "top_k "
      ],
      "execution_count": null,
      "outputs": [
        {
          "output_type": "execute_result",
          "data": {
            "text/plain": [
              "[{'asin': 'B002MPCB6W', 'id': 2403},\n",
              " {'asin': 'B00B28S6B4', 'id': 4639},\n",
              " {'asin': 'B00A0U7YUE', 'id': 2093},\n",
              " {'asin': 'B004WLH6P0', 'id': 4879},\n",
              " {'asin': 'B009PVZSV6', 'id': 2033}]"
            ]
          },
          "metadata": {
            "tags": []
          },
          "execution_count": 111
        }
      ]
    },
    {
      "cell_type": "code",
      "metadata": {
        "colab": {
          "base_uri": "https://localhost:8080/"
        },
        "id": "fuLONqWeMEfs",
        "outputId": "8bbc65e8-8c56-4ec9-f968-d5d9b6001dbb"
      },
      "source": [
        "!wget https://drive.google.com/file/d/1KoU3DCMAtGDnqK_PTboeYyK_z53sach5/view?usp=sharing"
      ],
      "execution_count": null,
      "outputs": [
        {
          "output_type": "stream",
          "text": [
            "--2021-04-30 15:11:35--  https://drive.google.com/file/d/1KoU3DCMAtGDnqK_PTboeYyK_z53sach5/view?usp=sharing\n",
            "Resolving drive.google.com (drive.google.com)... 74.125.142.102, 74.125.142.138, 74.125.142.101, ...\n",
            "Connecting to drive.google.com (drive.google.com)|74.125.142.102|:443... connected.\n",
            "HTTP request sent, awaiting response... 200 OK\n",
            "Length: unspecified [text/html]\n",
            "Saving to: ‘view?usp=sharing’\n",
            "\n",
            "view?usp=sharing        [ <=>                ]  63.02K  --.-KB/s    in 0.02s   \n",
            "\n",
            "2021-04-30 15:11:35 (2.51 MB/s) - ‘view?usp=sharing’ saved [64536]\n",
            "\n"
          ],
          "name": "stdout"
        }
      ]
    },
    {
      "cell_type": "code",
      "metadata": {
        "id": "_v8gFi72ROC5"
      },
      "source": [
        "!unzip \"/content/drive/MyDrive/data-v4.zip\"&> /dev/null"
      ],
      "execution_count": null,
      "outputs": []
    },
    {
      "cell_type": "code",
      "metadata": {
        "id": "eazVLFNURgyO"
      },
      "source": [
        ""
      ],
      "execution_count": null,
      "outputs": []
    }
  ]
}